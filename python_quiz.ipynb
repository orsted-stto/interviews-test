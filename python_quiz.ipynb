{
 "cells": [
  {
   "cell_type": "markdown",
   "metadata": {},
   "source": [
    "## Quiz to test Python Proficiency\n",
    "\n",
    "aim of the test is to gauge python expertize based on:\n",
    "- familiarity with using standard library functions\n",
    "- application of best python coding practices\n",
    "\n",
    "Estimated time for completion: ~30 minutes"
   ]
  },
  {
   "cell_type": "markdown",
   "metadata": {},
   "source": [
    "#### Using only standard library functions and adhering to best python practices, solve the following"
   ]
  },
  {
   "cell_type": "code",
   "execution_count": 9,
   "metadata": {},
   "outputs": [],
   "source": [
    "# Find the 3 largest numbers from a list of 20 random integers"
   ]
  },
  {
   "cell_type": "code",
   "execution_count": 1,
   "metadata": {},
   "outputs": [],
   "source": [
    "# Add two lists in one line of code\n",
    "  \n",
    "# numbers1 = [1, 2, 3] \n",
    "# numbers2 = [4, 5, 6]"
   ]
  },
  {
   "cell_type": "code",
   "execution_count": 2,
   "metadata": {},
   "outputs": [],
   "source": [
    "# flatten a list of lists\n",
    "# [[1, 2], 3, [4, 5, 6], [7, 8], 9, 10, [11, 22, 45, 67]]"
   ]
  },
  {
   "cell_type": "code",
   "execution_count": 3,
   "metadata": {},
   "outputs": [],
   "source": [
    "# sort the following list of tuples based on the last item in tuple in descending order\n",
    "\n",
    "# tuples = [('john', 'A', 15), ('jane', 'B', 12), ('dave', 'B', 10)]"
   ]
  },
  {
   "cell_type": "code",
   "execution_count": 4,
   "metadata": {},
   "outputs": [],
   "source": [
    "# find key(s) that appear in all three dictionaries, and find keys that appear in any two dictionaries\n",
    "\n",
    "# first = dict(a=1, b=2, c=3)\n",
    "# second = dict(a=5, d=6, e=7)\n",
    "# third = dict(b=12, f=77)"
   ]
  },
  {
   "cell_type": "code",
   "execution_count": 5,
   "metadata": {},
   "outputs": [],
   "source": [
    "# define a dictionary such that calling a non-existent key will not raise an error"
   ]
  },
  {
   "cell_type": "code",
   "execution_count": 6,
   "metadata": {},
   "outputs": [],
   "source": [
    "# sort dictionary items based on key\n",
    "\n",
    "# sort the dictionary based on date in chronological order\n",
    "# data =  [{'date': '2020-02-22', 'price': 17.6, 'vol': 120},\n",
    "#          {'date': '2020-01-02', 'price': 32.3, 'vol': 100},\n",
    "#          {'date': '2020-04-13', 'price': -22.4, 'vol': 130}]"
   ]
  },
  {
   "cell_type": "code",
   "execution_count": 7,
   "metadata": {},
   "outputs": [],
   "source": [
    "# convert a list of dictionaries to a dictionary of lists\n",
    "# e.g., original = [{'date': '2020-01-02', 'price': 32.3, 'vol': 100},\n",
    "#                   {'date': '2020-02-22', 'price': 17.6, 'vol': 120},\n",
    "#                   {'date': '2020-04-13', 'price': -22.4, 'vol': 130}]\n",
    "\n",
    "\n",
    "#      result = {'date': ['2020-01-02', '2020-02-22', '2020-04-13'],\n",
    "#                'price': [32.3, 17.6, -22.4],\n",
    "#                'vol': [100, 120, 130]}"
   ]
  },
  {
   "cell_type": "markdown",
   "metadata": {},
   "source": [
    "#### Using popular external libraries"
   ]
  },
  {
   "cell_type": "code",
   "execution_count": 8,
   "metadata": {},
   "outputs": [],
   "source": [
    "# plot an 8x8 chessboard with numpy and matplotlib in under 5 lines of code"
   ]
  },
  {
   "cell_type": "code",
   "execution_count": 1,
   "metadata": {},
   "outputs": [],
   "source": [
    "# using pandas, get the mean of the time series for every half-hour period\n",
    "\n",
    "# index = pd.date_range('2020-01-01', '2020-04-01', freq='30min', tz='CET', closed=left)\n",
    "# prices = np.random.normal(25, 10, len(index))\n",
    "\n",
    "# df = pd.DataFrame(data={'prices': prices}, index=index)"
   ]
  },
  {
   "cell_type": "code",
   "execution_count": null,
   "metadata": {},
   "outputs": [],
   "source": [
    "# add a separate column to the above dataframe numbering the half-hours\n",
    "\n",
    "# i.e., \n",
    "\n",
    "# datetime             |  half-hour\n",
    "# ------------------------------\n",
    "# '2020-01-01 00:00'   |   HH1\n",
    "# '2020-01-01 00:30'   |   HH2\n",
    "# '2020-01-01 01:00'   |   HH3\n",
    "# '2020-01-01 01:30'   |   HH4\n",
    "#   .\n",
    "#   .\n",
    "#   .\n",
    "# '2020-01-01 23:30'   |   HH96"
   ]
  }
 ],
 "metadata": {
  "kernelspec": {
   "display_name": "Python 3 (ipykernel)",
   "language": "python",
   "name": "python3"
  },
  "language_info": {
   "codemirror_mode": {
    "name": "ipython",
    "version": 3
   },
   "file_extension": ".py",
   "mimetype": "text/x-python",
   "name": "python",
   "nbconvert_exporter": "python",
   "pygments_lexer": "ipython3",
   "version": "3.8.13"
  }
 },
 "nbformat": 4,
 "nbformat_minor": 4
}
